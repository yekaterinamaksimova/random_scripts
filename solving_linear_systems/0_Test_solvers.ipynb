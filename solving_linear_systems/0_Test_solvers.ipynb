{
 "cells": [
  {
   "cell_type": "code",
   "execution_count": 1,
   "metadata": {},
   "outputs": [],
   "source": [
    "import numpy as np\n",
    "import sys, importlib\n",
    "import solver\n",
    "from sklearn import linear_model"
   ]
  },
  {
   "cell_type": "code",
   "execution_count": 25,
   "metadata": {},
   "outputs": [
    {
     "data": {
      "text/plain": [
       "<module 'solver' from '/Users/emaksimo/IST Austria/MR_lab/random_scripts/solving_linear_systems/solver.py'>"
      ]
     },
     "execution_count": 25,
     "metadata": {},
     "output_type": "execute_result"
    }
   ],
   "source": [
    "importlib.reload(sys.modules['solver'])"
   ]
  },
  {
   "cell_type": "code",
   "execution_count": 29,
   "metadata": {},
   "outputs": [],
   "source": [
    "N = 100\n",
    "P = 150\n",
    "incl_pr = 0.8\n",
    "h2 = 0.9\n",
    "rng = np.random.default_rng()\n",
    "X, Y, mu, a, R, G, a_inclusion = solver.linear(h2=h2, n=N, p=P, incl_pr=incl_pr, rng=rng, mu=0)"
   ]
  },
  {
   "cell_type": "code",
   "execution_count": 30,
   "metadata": {},
   "outputs": [],
   "source": [
    "lamb = R / G\n",
    "LHS = X.T @ X + lamb * np.eye(P)\n",
    "RHS = X.T @ Y"
   ]
  },
  {
   "cell_type": "code",
   "execution_count": 31,
   "metadata": {},
   "outputs": [],
   "source": [
    "a_hat = np.linalg.solve(LHS, RHS)\n",
    "a_hat_Chol = solver.solve_linear_Cholesky(LHS=LHS, RHS=RHS)\n",
    "lasso = linear_model.LassoCV(cv=5).fit(X, Y)\n",
    "a_hat_lasso = lasso.coef_\n",
    "a_hat_GS = solver.solve_linear_Gauss_Seidel(LHS=LHS, RHS=RHS, a=a)\n",
    "a_hat_PCG = solver.PCG(LHS=LHS, RHS=RHS, x0=a_hat_Chol)"
   ]
  },
  {
   "cell_type": "code",
   "execution_count": 32,
   "metadata": {},
   "outputs": [
    {
     "name": "stdout",
     "output_type": "stream",
     "text": [
      "Linear Solver MSE 0.002898852348773677\n",
      "Cholesky decomposition MSE 0.006136892642309588\n",
      "Lasso MSE 0.0039223998211224\n",
      "Gauss-Seidel MSE 0.0053746897385925085\n",
      "PCG MSE 0.0028988427226561255\n"
     ]
    }
   ],
   "source": [
    "# print(z_true)\n",
    "print(\"Linear Solver MSE\", np.sum((a_hat-a)**2)/P)\n",
    "print(\"Cholesky decomposition MSE\", np.sum((a_hat_Chol-a)**2)/P)\n",
    "print(\"Lasso MSE\", np.sum((a_hat_lasso-a)**2)/P)\n",
    "print(\"Gauss-Seidel MSE\", np.sum((a_hat_GS-a)**2)/P)\n",
    "print(\"PCG MSE\", np.sum((a_hat_PCG-a)**2)/P)"
   ]
  },
  {
   "cell_type": "code",
   "execution_count": null,
   "metadata": {},
   "outputs": [],
   "source": []
  }
 ],
 "metadata": {
  "kernelspec": {
   "display_name": "Python 3.10.4 64-bit",
   "language": "python",
   "name": "python3"
  },
  "language_info": {
   "codemirror_mode": {
    "name": "ipython",
    "version": 3
   },
   "file_extension": ".py",
   "mimetype": "text/x-python",
   "name": "python",
   "nbconvert_exporter": "python",
   "pygments_lexer": "ipython3",
   "version": "3.10.4"
  },
  "orig_nbformat": 4,
  "vscode": {
   "interpreter": {
    "hash": "aee8b7b246df8f9039afb4144a1f6fd8d2ca17a180786b69acc140d282b71a49"
   }
  }
 },
 "nbformat": 4,
 "nbformat_minor": 2
}
